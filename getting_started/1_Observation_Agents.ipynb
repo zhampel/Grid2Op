{
 "cells": [
  {
   "cell_type": "markdown",
   "metadata": {},
   "source": [
    "# This Notebook will develop how to explain an Agent and assess its performance."
   ]
  },
  {
   "cell_type": "markdown",
   "metadata": {},
   "source": [
    "***Disclaimer***: This file referenced some files in other directories. In order to have working cross referencing it's recommended to start the notebook server from the root directory (`Grid2Op`) of the package and __not__ in the `getting_started` sub directory:\n",
    "```bash\n",
    "cd Grid2Op\n",
    "jupyter notebook\n",
    "```"
   ]
  },
  {
   "cell_type": "markdown",
   "metadata": {},
   "source": [
    "***NB*** For more information about how to use the package, a general help can be built locally (provided that sphinx is installed on the machine) with:\n",
    "```bash\n",
    "cd Grid2Op\n",
    "make html\n",
    "```\n",
    "from the top directory of the package (usually `Grid2Op`).\n",
    "\n",
    "Once build, the help can be access from [here](../documentation/html/index.html)"
   ]
  },
  {
   "cell_type": "markdown",
   "metadata": {},
   "source": [
    "It is recommended to have a look at the [0_basic_functionalities](0_basic_functionalities.ipynb) notebook before getting into this one."
   ]
  },
  {
   "cell_type": "markdown",
   "metadata": {},
   "source": [
    "**Objective**\n",
    "\n",
    "This notebook will cover the basic of how to \"code\" an Agent that takes action on the powergrid. Examples will be given of \"expert agent\" that can take actions based on some fixed rules. More generic type of *Agent*, relying for example on machine learning / deep learning will be covered in the notebook [3_TrainingAnAgent](3_TrainingAnAgent.ipynb).\n",
    "\n",
    "This notebook will also cover the description of the *Observation* class, usefull to take some actions."
   ]
  },
  {
   "cell_type": "code",
   "execution_count": 1,
   "metadata": {},
   "outputs": [
    {
     "name": "stderr",
     "output_type": "stream",
     "text": [
      "/home/benjamin/.local/lib/python3.6/site-packages/pandapower/io_utils.py:8: FutureWarning: pandas.util.testing is deprecated. Use the functions in the public API at pandas.testing instead.\n",
      "  from pandas.util.testing import assert_series_equal, assert_frame_equal\n"
     ]
    }
   ],
   "source": [
    "import os\n",
    "import sys\n",
    "import grid2op"
   ]
  },
  {
   "cell_type": "code",
   "execution_count": 2,
   "metadata": {},
   "outputs": [
    {
     "name": "stdout",
     "output_type": "stream",
     "text": [
      "Impossible to automatically add a menu / table of content to this notebook.\n",
      "You can download \"jyquickhelper\" package with: \n",
      "\"pip install jyquickhelper\"\n"
     ]
    }
   ],
   "source": [
    "res = None\n",
    "try:\n",
    "    from jyquickhelper import add_notebook_menu\n",
    "    res = add_notebook_menu()\n",
    "except ModuleNotFoundError:\n",
    "    print(\"Impossible to automatically add a menu / table of content to this notebook.\\nYou can download \\\"jyquickhelper\\\" package with: \\n\\\"pip install jyquickhelper\\\"\")\n",
    "res"
   ]
  },
  {
   "cell_type": "markdown",
   "metadata": {},
   "source": [
    "## I) Description of the observations"
   ]
  },
  {
   "cell_type": "markdown",
   "metadata": {},
   "source": [
    "In this paragraph we will cover the observation class. For more information about it, we recommend to have a look at the official documentation, or [here](https://grid2op.readthedocs.io/en/latest/observation.html) or in the [Observations.py](../grid2op/Observations.py) files for more information. Only basic concepts are detailed in this notebook."
   ]
  },
  {
   "cell_type": "markdown",
   "metadata": {},
   "source": [
    "### I.A) Getting an observation"
   ]
  },
  {
   "cell_type": "markdown",
   "metadata": {},
   "source": [
    "An observation can be accessed when calling `env.step()`. The next cell is dedicated to create an environment, and to get an observation instance. We use the default `case14_fromfile` from Grid2Op framework."
   ]
  },
  {
   "cell_type": "code",
   "execution_count": 3,
   "metadata": {},
   "outputs": [
    {
     "name": "stderr",
     "output_type": "stream",
     "text": [
      "/home/benjamin/.local/lib/python3.6/site-packages/grid2op/MakeEnv.py:352: UserWarning: Your are using only 2 chronics for this environment. More can be download by running, from a command line:\n",
      "python -m grid2op.download --name \"case14_redisp\" --path_save PATH\\WHERE\\YOU\\WANT\\TO\\DOWNLOAD\\DATA\n",
      "  warnings.warn(\"Your are using only 2 chronics for this environment. More can be download by running, \"\n"
     ]
    }
   ],
   "source": [
    "env = grid2op.make() #\"case14_fromfile\")"
   ]
  },
  {
   "cell_type": "markdown",
   "metadata": {},
   "source": [
    "To perform a step, as stated on the short description above, we need an action. More information about them is given in the [2_ActionRepresentation](2_ActionRepresentation.ipynb) notebook. Here we just assume we do nothing."
   ]
  },
  {
   "cell_type": "code",
   "execution_count": 4,
   "metadata": {},
   "outputs": [],
   "source": [
    "do_nothing_act = env.helper_action_player({})\n",
    "obs, reward, done, info = env.step(do_nothing_act)"
   ]
  },
  {
   "cell_type": "markdown",
   "metadata": {},
   "source": [
    "### I.B) Information present in an Observation"
   ]
  },
  {
   "cell_type": "markdown",
   "metadata": {},
   "source": [
    "In this notebook we will detail only the \"CompleteObservation\". `Grid2Op` allows to modeled different kind of observations, for example some with incomplete data, or with noisy data etc. CompletelyObservation gives the full state of the powergrid, without any noise. It's the default observation used."
   ]
  },
  {
   "cell_type": "markdown",
   "metadata": {},
   "source": [
    "#### a) some of its attributes"
   ]
  },
  {
   "cell_type": "markdown",
   "metadata": {},
   "source": [
    "An observation has calendar data (eg the time stamp of the observation):"
   ]
  },
  {
   "cell_type": "code",
   "execution_count": 5,
   "metadata": {},
   "outputs": [
    {
     "data": {
      "text/plain": [
       "(2019, 1, 1, 0, 10, 1)"
      ]
     },
     "execution_count": 5,
     "metadata": {},
     "output_type": "execute_result"
    }
   ],
   "source": [
    "obs.year, obs.month, obs.day, obs.hour_of_day, obs.minute_of_hour, obs.day_of_week"
   ]
  },
  {
   "cell_type": "markdown",
   "metadata": {},
   "source": [
    "It has some powegrid generic information:"
   ]
  },
  {
   "cell_type": "code",
   "execution_count": 6,
   "metadata": {},
   "outputs": [
    {
     "name": "stdout",
     "output_type": "stream",
     "text": [
      "Number of generators of the powergrid: 5\n",
      "Number of loads of the powergrid: 11\n",
      "Number of powerline of the powergrid: 20\n",
      "Number of elements connected to each substations in the powergrid: [3 6 4 6 5 6 3 2 5 3 3 3 4 3]\n",
      "Total number of elements: 56\n"
     ]
    }
   ],
   "source": [
    "print(\"Number of generators of the powergrid: {}\".format(obs.n_gen))\n",
    "print(\"Number of loads of the powergrid: {}\".format(obs.n_load))\n",
    "print(\"Number of powerline of the powergrid: {}\".format(obs.n_line))\n",
    "print(\"Number of elements connected to each substations in the powergrid: {}\".format(obs.sub_info))\n",
    "print(\"Total number of elements: {}\".format(obs.dim_topo))"
   ]
  },
  {
   "cell_type": "markdown",
   "metadata": {},
   "source": [
    "It has some information about the generators (each generator can be viewed as a point in a 3 dimensional space)"
   ]
  },
  {
   "cell_type": "code",
   "execution_count": 7,
   "metadata": {},
   "outputs": [
    {
     "name": "stdout",
     "output_type": "stream",
     "text": [
      "Generators active production: [78.5        78.2        24.2         0.         76.43335038]\n",
      "Generators reactive production: [ 68.82544632 101.2536835  -18.48130499   7.04781916   2.09676292]\n",
      "Generators voltage setpoint : [142.1 142.1   0.2  12.  142.1]\n"
     ]
    }
   ],
   "source": [
    "print(\"Generators active production: {}\".format(obs.prod_p))\n",
    "print(\"Generators reactive production: {}\".format(obs.prod_q))\n",
    "print(\"Generators voltage setpoint : {}\".format(obs.prod_v))"
   ]
  },
  {
   "cell_type": "markdown",
   "metadata": {},
   "source": [
    "It has some information the loads (each load is a point in a 3 dimensional space too)"
   ]
  },
  {
   "cell_type": "code",
   "execution_count": 8,
   "metadata": {},
   "outputs": [
    {
     "name": "stdout",
     "output_type": "stream",
     "text": [
      "Loads active consumption: [23.8 91.6 14.8 43.5  6.8 12.4 28.9  9.   3.6  5.5 12.1]\n",
      "Loads reactive consumption: [ 68.82544632 101.2536835  -18.48130499   7.04781916   2.09676292]\n",
      "Loads voltage (voltage magnitude of the bus to which it is connected) : [142.1        142.1          0.19255956 133.5546623  133.97406149\n",
      "   0.2          0.20142463   0.1992762    0.19862951   0.19580434\n",
      "   0.19500454]\n"
     ]
    }
   ],
   "source": [
    "print(\"Loads active consumption: {}\".format(obs.load_p))\n",
    "print(\"Loads reactive consumption: {}\".format(obs.prod_q))\n",
    "print(\"Loads voltage (voltage magnitude of the bus to which it is connected) : {}\".format(obs.load_v))"
   ]
  },
  {
   "cell_type": "markdown",
   "metadata": {},
   "source": [
    "In this setting a powerline can be viewed as a point in an 8 dimensional space:\n",
    "   * active flow\n",
    "   * reactive flow\n",
    "   * voltage magnitude\n",
    "   * current flow\n",
    "   \n",
    "from both of its end.\n",
    "\n",
    "It it is then:"
   ]
  },
  {
   "cell_type": "code",
   "execution_count": 9,
   "metadata": {},
   "outputs": [
    {
     "name": "stdout",
     "output_type": "stream",
     "text": [
      "Origin active flow: [ 4.24481381e+01  3.39852123e+01  2.99064230e+00  8.06334805e+00\n",
      " -6.05131417e+00  1.71992452e+00  7.10173883e+00  2.71666784e+01\n",
      "  3.88266083e+01  3.08086530e+01  1.34397880e+01 -3.31223550e+01\n",
      "  9.80043690e+00  7.31346839e+00  1.77709528e+01  2.53492791e+01\n",
      "  1.46047113e+01  2.30848581e+01  3.74145159e-14  2.53492791e+01]\n",
      "Origin reactive flow: [-16.24287274  18.33963566  10.71194873  11.48488703   4.20049565\n",
      "  -0.08629129  -0.21724145  -8.14728023  23.88785737  24.83498364\n",
      "  32.98203229   3.45327523  -1.37624447   4.10839959   8.83058341\n",
      "  12.26413609  10.24821629  44.28845057  -6.96032236  17.60379384]\n",
      "Origin current flow: [  184.66148666   156.90369638 31878.19410017 40222.7664396\n",
      " 21341.95084869  5077.76221812 21035.96488572   115.23465468\n",
      "   185.21757697   160.78079521   144.70404203   143.96241692\n",
      " 28569.01180495 24215.31317375 57284.81228441   121.73502221\n",
      "    77.12846516   215.22848153   290.64716341  1288.7377647 ]\n",
      "Origin voltage (voltage magnitude to the bus to which the origin end is connected): [142.1        142.1          0.20142463   0.20142463   0.1992762\n",
      "   0.19580434   0.19500454 142.1        142.1        142.1\n",
      " 142.1        133.5546623    0.2          0.2          0.2\n",
      " 133.5546623  133.5546623  133.97406149  13.82619373  13.82619373]\n",
      "Extremity active flow: [-4.21019397e+01 -3.32055771e+01 -2.94868583e+00 -7.79643395e+00\n",
      "  6.09982009e+00 -1.71253140e+00 -7.00356605e+00 -2.68397880e+01\n",
      " -3.76876077e+01 -2.99529114e+01 -1.26440276e+01  3.32736304e+01\n",
      " -9.69982009e+00 -7.21992452e+00 -1.74892074e+01 -2.53492791e+01\n",
      " -1.46047113e+01 -2.30848581e+01 -3.75255382e-14 -2.53492791e+01]\n",
      "Extremity reactive flow: [ 11.44988554 -20.26955396 -10.60049565 -10.91712498  -4.08694864\n",
      "   0.09298031   0.41712498   4.6716512  -23.9791609  -25.84279046\n",
      " -32.28646671  -2.97610615   1.58694864  -3.91370871  -8.27573886\n",
      " -10.64347148  -8.54965552 -38.74404352   7.04781916 -16.52946162]\n",
      "Extremity current flow: [1.77272550e+02 1.67650504e+02 3.18781941e+04 4.02227664e+04\n",
      " 2.13419508e+04 5.07776222e+03 2.10359649e+04 1.10689224e+02\n",
      " 1.93103661e+02 1.70482391e+02 1.49894073e+02 1.43962417e+02\n",
      " 2.85690118e+04 2.42153132e+04 5.72848123e+04 1.14804821e+03\n",
      " 4.85075008e+04 1.30192536e+05 3.39088357e+02 8.67419649e+04]\n",
      "Extremity voltage (voltage magnitude to the bus to which the origin end is connected): [142.1        133.97406149   0.1992762    0.19255956   0.19862951\n",
      "   0.19500454   0.19255956 142.1        133.5546623  133.97406149\n",
      " 133.5546623  133.97406149   0.19862951   0.19580434   0.19500454\n",
      "  13.82619373   0.20142463   0.2         12.           0.20142463]\n"
     ]
    }
   ],
   "source": [
    "print(\"Origin active flow: {}\".format(obs.p_or))\n",
    "print(\"Origin reactive flow: {}\".format(obs.q_or))\n",
    "print(\"Origin current flow: {}\".format(obs.a_or))\n",
    "print(\"Origin voltage (voltage magnitude to the bus to which the origin end is connected): {}\".format(obs.v_or))\n",
    "print(\"Extremity active flow: {}\".format(obs.p_ex))\n",
    "print(\"Extremity reactive flow: {}\".format(obs.q_ex))\n",
    "print(\"Extremity current flow: {}\".format(obs.a_ex))\n",
    "print(\"Extremity voltage (voltage magnitude to the bus to which the origin end is connected): {}\".format(obs.v_ex))"
   ]
  },
  {
   "cell_type": "markdown",
   "metadata": {},
   "source": [
    "The last informations about the powerlines is the $\\rho$ ratio, *ie.* the ratio between the current flow on each powerlines and the its thermal limits. It can be accessed with:"
   ]
  },
  {
   "cell_type": "code",
   "execution_count": 10,
   "metadata": {},
   "outputs": [
    {
     "data": {
      "text/plain": [
       "array([0.47976462, 0.40764776, 0.13920785, 0.17564749, 0.09319747,\n",
       "       0.33260872, 0.09186127, 0.29938842, 0.48120938, 0.87721359,\n",
       "       0.37595213, 0.37402533, 0.12475709, 0.10574506, 0.82551211,\n",
       "       0.31627687, 0.20038563, 0.894688  , 0.08542811, 0.37879067])"
      ]
     },
     "execution_count": 10,
     "metadata": {},
     "output_type": "execute_result"
    }
   ],
   "source": [
    "obs.rho"
   ]
  },
  {
   "cell_type": "markdown",
   "metadata": {},
   "source": [
    "It also store information of the topology and the state of the powerline."
   ]
  },
  {
   "cell_type": "code",
   "execution_count": 11,
   "metadata": {},
   "outputs": [
    {
     "data": {
      "text/plain": [
       "array([1, 1, 1, 1, 1, 1, 1, 1, 1, 1, 1, 1, 1, 1, 1, 1, 1, 1, 1, 1, 1, 1,\n",
       "       1, 1, 1, 1, 1, 1, 1, 1, 1, 1, 1, 1, 1, 1, 1, 1, 1, 1, 1, 1, 1, 1,\n",
       "       1, 1, 1, 1, 1, 1, 1, 1, 1, 1, 1, 1])"
      ]
     },
     "execution_count": 11,
     "metadata": {},
     "output_type": "execute_result"
    }
   ],
   "source": [
    "obs.timestep_overflow # the number of timestep each of the powerline is in overflow (1 powerline per component)\n",
    "obs.line_status # the status of each powerline: True connected, False disconnected\n",
    "obs.topo_vect  # the topology vector the each element (generator, load, each end of a powerline) to which the object\n",
    "# is connected: 1 = bus 1, 2 = bus 2."
   ]
  },
  {
   "cell_type": "markdown",
   "metadata": {},
   "source": [
    " More information about this `topology vector` is given in the documentation [here](https://grid2op.readthedocs.io/en/latest/observation.html)"
   ]
  },
  {
   "cell_type": "markdown",
   "metadata": {},
   "source": [
    "#### b) some of its methods"
   ]
  },
  {
   "cell_type": "markdown",
   "metadata": {},
   "source": [
    "It can be converted to / from flat numpy vector. This function is usefull for interacting with machine learning or to store it, but probably less human readable. It consists in stacking all the above-mentionned information in a single `numpy.float64` vector."
   ]
  },
  {
   "cell_type": "code",
   "execution_count": 12,
   "metadata": {},
   "outputs": [
    {
     "data": {
      "text/plain": [
       "array([ 2.01900000e+03,  1.00000000e+00,  1.00000000e+00,  0.00000000e+00,\n",
       "        1.00000000e+01,  1.00000000e+00,  7.85000000e+01,  7.82000000e+01,\n",
       "        2.42000000e+01,  0.00000000e+00,  7.64333504e+01,  6.88254463e+01,\n",
       "        1.01253683e+02, -1.84813050e+01,  7.04781916e+00,  2.09676292e+00,\n",
       "        1.42100000e+02,  1.42100000e+02,  2.00000000e-01,  1.20000000e+01,\n",
       "        1.42100000e+02,  2.38000000e+01,  9.16000000e+01,  1.48000000e+01,\n",
       "        4.35000000e+01,  6.80000000e+00,  1.24000000e+01,  2.89000000e+01,\n",
       "        9.00000000e+00,  3.60000000e+00,  5.50000000e+00,  1.21000000e+01,\n",
       "        1.68000000e+01,  6.36000000e+01,  1.05000000e+01,  3.03000000e+01,\n",
       "        4.80000000e+00,  8.70000000e+00,  2.07000000e+01,  6.40000000e+00,\n",
       "        2.50000000e+00,  4.00000000e+00,  8.40000000e+00,  1.42100000e+02,\n",
       "        1.42100000e+02,  1.92559558e-01,  1.33554662e+02,  1.33974061e+02,\n",
       "        2.00000000e-01,  2.01424634e-01,  1.99276196e-01,  1.98629508e-01,\n",
       "        1.95804340e-01,  1.95004544e-01,  4.24481381e+01,  3.39852123e+01,\n",
       "        2.99064230e+00,  8.06334805e+00, -6.05131417e+00,  1.71992452e+00,\n",
       "        7.10173883e+00,  2.71666784e+01,  3.88266083e+01,  3.08086530e+01,\n",
       "        1.34397880e+01, -3.31223550e+01,  9.80043690e+00,  7.31346839e+00,\n",
       "        1.77709528e+01,  2.53492791e+01,  1.46047113e+01,  2.30848581e+01,\n",
       "        3.74145159e-14,  2.53492791e+01, -1.62428727e+01,  1.83396357e+01,\n",
       "        1.07119487e+01,  1.14848870e+01,  4.20049565e+00, -8.62912945e-02,\n",
       "       -2.17241451e-01, -8.14728023e+00,  2.38878574e+01,  2.48349836e+01,\n",
       "        3.29820323e+01,  3.45327523e+00, -1.37624447e+00,  4.10839959e+00,\n",
       "        8.83058341e+00,  1.22641361e+01,  1.02482163e+01,  4.42884506e+01,\n",
       "       -6.96032236e+00,  1.76037938e+01,  1.42100000e+02,  1.42100000e+02,\n",
       "        2.01424634e-01,  2.01424634e-01,  1.99276196e-01,  1.95804340e-01,\n",
       "        1.95004544e-01,  1.42100000e+02,  1.42100000e+02,  1.42100000e+02,\n",
       "        1.42100000e+02,  1.33554662e+02,  2.00000000e-01,  2.00000000e-01,\n",
       "        2.00000000e-01,  1.33554662e+02,  1.33554662e+02,  1.33974061e+02,\n",
       "        1.38261937e+01,  1.38261937e+01,  1.84661487e+02,  1.56903696e+02,\n",
       "        3.18781941e+04,  4.02227664e+04,  2.13419508e+04,  5.07776222e+03,\n",
       "        2.10359649e+04,  1.15234655e+02,  1.85217577e+02,  1.60780795e+02,\n",
       "        1.44704042e+02,  1.43962417e+02,  2.85690118e+04,  2.42153132e+04,\n",
       "        5.72848123e+04,  1.21735022e+02,  7.71284652e+01,  2.15228482e+02,\n",
       "        2.90647163e+02,  1.28873776e+03, -4.21019397e+01, -3.32055771e+01,\n",
       "       -2.94868583e+00, -7.79643395e+00,  6.09982009e+00, -1.71253140e+00,\n",
       "       -7.00356605e+00, -2.68397880e+01, -3.76876077e+01, -2.99529114e+01,\n",
       "       -1.26440276e+01,  3.32736304e+01, -9.69982009e+00, -7.21992452e+00,\n",
       "       -1.74892074e+01, -2.53492791e+01, -1.46047113e+01, -2.30848581e+01,\n",
       "       -3.75255382e-14, -2.53492791e+01,  1.14498855e+01, -2.02695540e+01,\n",
       "       -1.06004957e+01, -1.09171250e+01, -4.08694864e+00,  9.29803067e-02,\n",
       "        4.17124977e-01,  4.67165120e+00, -2.39791609e+01, -2.58427905e+01,\n",
       "       -3.22864667e+01, -2.97610615e+00,  1.58694864e+00, -3.91370871e+00,\n",
       "       -8.27573886e+00, -1.06434715e+01, -8.54965552e+00, -3.87440435e+01,\n",
       "        7.04781916e+00, -1.65294616e+01,  1.42100000e+02,  1.33974061e+02,\n",
       "        1.99276196e-01,  1.92559558e-01,  1.98629508e-01,  1.95004544e-01,\n",
       "        1.92559558e-01,  1.42100000e+02,  1.33554662e+02,  1.33974061e+02,\n",
       "        1.33554662e+02,  1.33974061e+02,  1.98629508e-01,  1.95804340e-01,\n",
       "        1.95004544e-01,  1.38261937e+01,  2.01424634e-01,  2.00000000e-01,\n",
       "        1.20000000e+01,  2.01424634e-01,  1.77272550e+02,  1.67650504e+02,\n",
       "        3.18781941e+04,  4.02227664e+04,  2.13419508e+04,  5.07776222e+03,\n",
       "        2.10359649e+04,  1.10689224e+02,  1.93103661e+02,  1.70482391e+02,\n",
       "        1.49894073e+02,  1.43962417e+02,  2.85690118e+04,  2.42153132e+04,\n",
       "        5.72848123e+04,  1.14804821e+03,  4.85075008e+04,  1.30192536e+05,\n",
       "        3.39088357e+02,  8.67419649e+04,  4.79764616e-01,  4.07647762e-01,\n",
       "        1.39207849e-01,  1.75647491e-01,  9.31974713e-02,  3.32608721e-01,\n",
       "        9.18612712e-02,  2.99388415e-01,  4.81209381e-01,  8.77213593e-01,\n",
       "        3.75952130e-01,  3.74025331e-01,  1.24757089e-01,  1.05745064e-01,\n",
       "        8.25512109e-01,  3.16276866e-01,  2.00385631e-01,  8.94687997e-01,\n",
       "        8.54281109e-02,  3.78790666e-01,  1.00000000e+00,  1.00000000e+00,\n",
       "        1.00000000e+00,  1.00000000e+00,  1.00000000e+00,  1.00000000e+00,\n",
       "        1.00000000e+00,  1.00000000e+00,  1.00000000e+00,  1.00000000e+00,\n",
       "        1.00000000e+00,  1.00000000e+00,  1.00000000e+00,  1.00000000e+00,\n",
       "        1.00000000e+00,  1.00000000e+00,  1.00000000e+00,  1.00000000e+00,\n",
       "        1.00000000e+00,  1.00000000e+00,  0.00000000e+00,  0.00000000e+00,\n",
       "        0.00000000e+00,  0.00000000e+00,  0.00000000e+00,  0.00000000e+00,\n",
       "        0.00000000e+00,  0.00000000e+00,  0.00000000e+00,  0.00000000e+00,\n",
       "        0.00000000e+00,  0.00000000e+00,  0.00000000e+00,  0.00000000e+00,\n",
       "        0.00000000e+00,  0.00000000e+00,  0.00000000e+00,  0.00000000e+00,\n",
       "        0.00000000e+00,  0.00000000e+00,  1.00000000e+00,  1.00000000e+00,\n",
       "        1.00000000e+00,  1.00000000e+00,  1.00000000e+00,  1.00000000e+00,\n",
       "        1.00000000e+00,  1.00000000e+00,  1.00000000e+00,  1.00000000e+00,\n",
       "        1.00000000e+00,  1.00000000e+00,  1.00000000e+00,  1.00000000e+00,\n",
       "        1.00000000e+00,  1.00000000e+00,  1.00000000e+00,  1.00000000e+00,\n",
       "        1.00000000e+00,  1.00000000e+00,  1.00000000e+00,  1.00000000e+00,\n",
       "        1.00000000e+00,  1.00000000e+00,  1.00000000e+00,  1.00000000e+00,\n",
       "        1.00000000e+00,  1.00000000e+00,  1.00000000e+00,  1.00000000e+00,\n",
       "        1.00000000e+00,  1.00000000e+00,  1.00000000e+00,  1.00000000e+00,\n",
       "        1.00000000e+00,  1.00000000e+00,  1.00000000e+00,  1.00000000e+00,\n",
       "        1.00000000e+00,  1.00000000e+00,  1.00000000e+00,  1.00000000e+00,\n",
       "        1.00000000e+00,  1.00000000e+00,  1.00000000e+00,  1.00000000e+00,\n",
       "        1.00000000e+00,  1.00000000e+00,  1.00000000e+00,  1.00000000e+00,\n",
       "        1.00000000e+00,  1.00000000e+00,  1.00000000e+00,  1.00000000e+00,\n",
       "        1.00000000e+00,  1.00000000e+00,  0.00000000e+00,  0.00000000e+00,\n",
       "        0.00000000e+00,  0.00000000e+00,  0.00000000e+00,  0.00000000e+00,\n",
       "        0.00000000e+00,  0.00000000e+00,  0.00000000e+00,  0.00000000e+00,\n",
       "        0.00000000e+00,  0.00000000e+00,  0.00000000e+00,  0.00000000e+00,\n",
       "        0.00000000e+00,  0.00000000e+00,  0.00000000e+00,  0.00000000e+00,\n",
       "        0.00000000e+00,  0.00000000e+00,  0.00000000e+00,  0.00000000e+00,\n",
       "        0.00000000e+00,  0.00000000e+00,  0.00000000e+00,  0.00000000e+00,\n",
       "        0.00000000e+00,  0.00000000e+00,  0.00000000e+00,  0.00000000e+00,\n",
       "        0.00000000e+00,  0.00000000e+00,  0.00000000e+00,  0.00000000e+00,\n",
       "        0.00000000e+00,  0.00000000e+00,  0.00000000e+00,  0.00000000e+00,\n",
       "        0.00000000e+00,  0.00000000e+00,  0.00000000e+00,  0.00000000e+00,\n",
       "        0.00000000e+00,  0.00000000e+00,  0.00000000e+00,  0.00000000e+00,\n",
       "        0.00000000e+00,  0.00000000e+00,  0.00000000e+00,  0.00000000e+00,\n",
       "        0.00000000e+00,  0.00000000e+00,  0.00000000e+00,  0.00000000e+00,\n",
       "        0.00000000e+00,  0.00000000e+00,  0.00000000e+00,  0.00000000e+00,\n",
       "        0.00000000e+00,  0.00000000e+00,  0.00000000e+00,  0.00000000e+00,\n",
       "        0.00000000e+00,  0.00000000e+00,  0.00000000e+00,  0.00000000e+00,\n",
       "        0.00000000e+00,  0.00000000e+00,  0.00000000e+00,  0.00000000e+00,\n",
       "        0.00000000e+00,  0.00000000e+00,  0.00000000e+00,  0.00000000e+00,\n",
       "       -1.00000000e+00, -1.00000000e+00, -1.00000000e+00, -1.00000000e+00,\n",
       "       -1.00000000e+00, -1.00000000e+00, -1.00000000e+00, -1.00000000e+00,\n",
       "       -1.00000000e+00, -1.00000000e+00, -1.00000000e+00, -1.00000000e+00,\n",
       "       -1.00000000e+00, -1.00000000e+00, -1.00000000e+00, -1.00000000e+00,\n",
       "       -1.00000000e+00, -1.00000000e+00, -1.00000000e+00, -1.00000000e+00,\n",
       "        0.00000000e+00,  0.00000000e+00,  0.00000000e+00,  0.00000000e+00,\n",
       "        0.00000000e+00,  0.00000000e+00,  0.00000000e+00,  0.00000000e+00,\n",
       "        0.00000000e+00,  0.00000000e+00,  0.00000000e+00,  0.00000000e+00,\n",
       "        0.00000000e+00,  0.00000000e+00,  0.00000000e+00,  0.00000000e+00,\n",
       "        0.00000000e+00,  0.00000000e+00,  0.00000000e+00,  0.00000000e+00,\n",
       "        0.00000000e+00,  0.00000000e+00,  0.00000000e+00,  0.00000000e+00,\n",
       "        0.00000000e+00,  0.00000000e+00,  0.00000000e+00,  0.00000000e+00,\n",
       "        0.00000000e+00,  0.00000000e+00])"
      ]
     },
     "execution_count": 12,
     "metadata": {},
     "output_type": "execute_result"
    }
   ],
   "source": [
    "vector_representation_of_observation = obs.to_vect()\n",
    "vector_representation_of_observation"
   ]
  },
  {
   "cell_type": "markdown",
   "metadata": {},
   "source": [
    "An observation can be copied, of course:"
   ]
  },
  {
   "cell_type": "code",
   "execution_count": 13,
   "metadata": {},
   "outputs": [],
   "source": [
    "obs2 = obs.copy()"
   ]
  },
  {
   "cell_type": "markdown",
   "metadata": {},
   "source": [
    "Or reset:"
   ]
  },
  {
   "cell_type": "code",
   "execution_count": 14,
   "metadata": {},
   "outputs": [
    {
     "name": "stdout",
     "output_type": "stream",
     "text": [
      "[nan nan nan nan nan]\n"
     ]
    }
   ],
   "source": [
    "obs2.reset()\n",
    "print(obs2.prod_p)"
   ]
  },
  {
   "cell_type": "markdown",
   "metadata": {},
   "source": [
    "Or loaded from a vector:"
   ]
  },
  {
   "cell_type": "code",
   "execution_count": 15,
   "metadata": {},
   "outputs": [
    {
     "data": {
      "text/plain": [
       "array([78.5       , 78.2       , 24.2       ,  0.        , 76.43335038])"
      ]
     },
     "execution_count": 15,
     "metadata": {},
     "output_type": "execute_result"
    }
   ],
   "source": [
    "obs2.from_vect(vector_representation_of_observation)\n",
    "obs2.prod_p"
   ]
  },
  {
   "cell_type": "markdown",
   "metadata": {},
   "source": [
    "It is also possible to assess whether two observations are equals or not:"
   ]
  },
  {
   "cell_type": "code",
   "execution_count": 16,
   "metadata": {},
   "outputs": [
    {
     "data": {
      "text/plain": [
       "True"
      ]
     },
     "execution_count": 16,
     "metadata": {},
     "output_type": "execute_result"
    }
   ],
   "source": [
    "obs == obs2"
   ]
  },
  {
   "cell_type": "markdown",
   "metadata": {},
   "source": [
    "For this type of observation, it is also possible to retrieve the topology as a matrix. The topology matrix can be obtained in two different format."
   ]
  },
  {
   "cell_type": "markdown",
   "metadata": {},
   "source": [
    "*Format 1*: the `connectivity matrix` which has as many row / columns as the number of elements in the powergrid (remember an element is either an end of a powerline, or a generator or a load) and that says if 2 elements are connected to one another or not:\n",
    "\n",
    "$$\n",
    "\\left\\{\n",
    "\\begin{aligned}\n",
    "\\text{conn mat}[i,j] = 0 & ~\\text{element i and j are NOT connected to the same bus}\\\\\n",
    "\\text{conn mat}[i,j] = 1 & ~\\text{element i and j are connected to the same bus, or i and j are both end of the same powerline}\\\\\n",
    "\\end{aligned}\n",
    "\\right.\n",
    "$$"
   ]
  },
  {
   "cell_type": "code",
   "execution_count": 17,
   "metadata": {},
   "outputs": [
    {
     "data": {
      "text/plain": [
       "array([[0., 1., 1., ..., 0., 0., 0.],\n",
       "       [1., 0., 1., ..., 0., 0., 0.],\n",
       "       [1., 1., 0., ..., 0., 0., 0.],\n",
       "       ...,\n",
       "       [0., 0., 0., ..., 0., 1., 1.],\n",
       "       [0., 0., 0., ..., 1., 0., 1.],\n",
       "       [0., 0., 0., ..., 1., 1., 0.]])"
      ]
     },
     "execution_count": 17,
     "metadata": {},
     "output_type": "execute_result"
    }
   ],
   "source": [
    "obs.connectivity_matrix()"
   ]
  },
  {
   "cell_type": "markdown",
   "metadata": {},
   "source": [
    "This representation has the advantages to always have the same dimension, regardless of the topology of the powergrid."
   ]
  },
  {
   "cell_type": "markdown",
   "metadata": {},
   "source": [
    "*Format 2*: the `bus connectivity matrix` has as many row / columns as the number of active buses of the powergrid. It should be understood as followed:\n",
    "\n",
    "$$\n",
    "\\left\\{\n",
    "\\begin{aligned}\n",
    "\\text{bus conn mat}[i,j] = 0 & ~\\text{no powerline connect bus i to bus j}\\\\\n",
    "\\text{bus conn mat}[i,j] = 1 & ~\\text{at least a powerline connectes bus i to bus j (or i == j)}\\\\\n",
    "\\end{aligned}\n",
    "\\right.\n",
    "$$"
   ]
  },
  {
   "cell_type": "code",
   "execution_count": 18,
   "metadata": {},
   "outputs": [
    {
     "data": {
      "text/plain": [
       "array([[1., 1., 0., 0., 1., 0., 0., 0., 0., 0., 0., 0., 0., 0.],\n",
       "       [1., 1., 1., 1., 1., 0., 0., 0., 0., 0., 0., 0., 0., 0.],\n",
       "       [0., 1., 1., 1., 0., 0., 0., 0., 0., 0., 0., 0., 0., 0.],\n",
       "       [0., 1., 1., 1., 1., 0., 1., 0., 1., 0., 0., 0., 0., 0.],\n",
       "       [1., 1., 0., 1., 1., 1., 0., 0., 0., 0., 0., 0., 0., 0.],\n",
       "       [0., 0., 0., 0., 1., 1., 0., 0., 0., 0., 1., 1., 1., 0.],\n",
       "       [0., 0., 0., 1., 0., 0., 1., 1., 1., 0., 0., 0., 0., 0.],\n",
       "       [0., 0., 0., 0., 0., 0., 1., 1., 0., 0., 0., 0., 0., 0.],\n",
       "       [0., 0., 0., 1., 0., 0., 1., 0., 1., 1., 0., 0., 0., 1.],\n",
       "       [0., 0., 0., 0., 0., 0., 0., 0., 1., 1., 1., 0., 0., 0.],\n",
       "       [0., 0., 0., 0., 0., 1., 0., 0., 0., 1., 1., 0., 0., 0.],\n",
       "       [0., 0., 0., 0., 0., 1., 0., 0., 0., 0., 0., 1., 1., 0.],\n",
       "       [0., 0., 0., 0., 0., 1., 0., 0., 0., 0., 0., 1., 1., 1.],\n",
       "       [0., 0., 0., 0., 0., 0., 0., 0., 1., 0., 0., 0., 1., 1.]])"
      ]
     },
     "execution_count": 18,
     "metadata": {},
     "output_type": "execute_result"
    }
   ],
   "source": [
    "obs.bus_connectivity_matrix()"
   ]
  },
  {
   "cell_type": "markdown",
   "metadata": {},
   "source": [
    "#### c) Simulate"
   ]
  },
  {
   "cell_type": "markdown",
   "metadata": {},
   "source": [
    "As opposed to most RL problems, in this framework we add the possibility to \"simulate\" the impact of a possible action on the power grid.\n",
    "\n",
    "This \"simulate\" method used some forecasts available (forecasts are made available by the way we loaded the data here, with the class `GridStateFromFileWithForecasts`. For this class, only 1 time step ahead forecasts are provided, but this might be adapted in the future).\n",
    "\n",
    "Note that this `simulate` function can use a different simulator than the one used by the Environment. Fore more information, we encourage you to read the official documentation or if it has been built locally (recommended) to consult [this page](https://grid2op.readthedocs.io/en/latest/observation.html#grid2op.Observation.Observation.simulate).\n",
    "\n",
    "This function will:\n",
    "\n",
    "1. apply the forecasted injection on the powergrid\n",
    "2. run a powerflow with the decidated `simulate` powerflow simulator\n",
    "3. return:\n",
    "    1. the anticipated observation (after the action has been taken)\n",
    "    2. the anticipated reward (of this simulated action)\n",
    "    3. whether or not there has been an error\n",
    "    4. some more informations\n",
    "    \n",
    "From a user point of view, this is the main difference with the previous [pypownet](https://github.com/MarvinLer/pypownet) framework. This \"simulation\" used to be performed directly by the environment, thus giving a direct access to the Agent to the Environment, which could break the RL framework (it was not the case in the first edition of the Learning to Run A Power Network as the Environment was fully observable)."
   ]
  },
  {
   "cell_type": "code",
   "execution_count": 19,
   "metadata": {},
   "outputs": [],
   "source": [
    "do_nothing_act = env.helper_action_player({})\n",
    "obs_sim, reward_sim, is_done_sim, info_sim = obs.simulate(do_nothing_act)"
   ]
  },
  {
   "cell_type": "code",
   "execution_count": 20,
   "metadata": {},
   "outputs": [
    {
     "data": {
      "text/plain": [
       "array([78.8       , 77.1       , 24.4       ,  0.        , 77.40249963])"
      ]
     },
     "execution_count": 20,
     "metadata": {},
     "output_type": "execute_result"
    }
   ],
   "source": [
    "obs_sim.prod_p"
   ]
  },
  {
   "cell_type": "code",
   "execution_count": 21,
   "metadata": {},
   "outputs": [
    {
     "data": {
      "text/plain": [
       "array([78.5       , 78.2       , 24.2       ,  0.        , 76.43335038])"
      ]
     },
     "execution_count": 21,
     "metadata": {},
     "output_type": "execute_result"
    }
   ],
   "source": [
    "obs.prod_p"
   ]
  },
  {
   "cell_type": "markdown",
   "metadata": {},
   "source": [
    "## II) Taking actions based on these"
   ]
  },
  {
   "cell_type": "markdown",
   "metadata": {},
   "source": [
    "In this section we will make our first *Agent* that will act based on these observations.\n",
    "\n",
    "All *Agent* must derived from the grid2op.Agent class. The main function to code for the Agents is the \"act\" function (more information on the official documentation or [here](https://grid2op.readthedocs.io/en/latest/agent.html) ). \n",
    "\n",
    "Basically, the Agent receive a reward and an observation, and suggest a new action. Some different *Agent* are pre-define in the grid2op package. We won't expose them here (for more information see the documantation or the [Agent.py](../grid2op/Agent.py) file), but rather we will make a custom Agent.\n",
    "\n",
    "This *Agent* will select among:\n",
    "\n",
    "- do nothing \n",
    "- disconnecting the powerline having the higher relative flows\n",
    "- reconnecting a powerline disconnected\n",
    "- disconnecting the powerline having the lower relative flows\n",
    "\n",
    "by using `simulate` on the corresponding actions, and choosing the one that has the highest predicted reward.\n",
    "\n",
    "Note that this kind of Agent is not particularly smart and is given only as an example.\n",
    "\n",
    "More information about the creation / manipulation of *Action* will be given in the notebook [2_Action_GridManipulation](2_Action_GridManipulation.ipynb)"
   ]
  },
  {
   "cell_type": "code",
   "execution_count": 22,
   "metadata": {},
   "outputs": [],
   "source": [
    "from grid2op.Agent import Agent\n",
    "import numpy as np\n",
    "import pdb\n",
    "\n",
    "\n",
    "class MyAgent(Agent):\n",
    "    def __init__(self, action_space):\n",
    "        # python required method to code\n",
    "        Agent.__init__(self, action_space)\n",
    "        self.do_nothing = self.action_space({})\n",
    "        self.print_next = False\n",
    "        \n",
    "    def act(self, observation, reward, done=False):\n",
    "        i_max = np.argmax(observation.rho)\n",
    "        new_status_max = np.zeros(observation.rho.shape)\n",
    "        new_status_max[i_max] = -1\n",
    "        act_max = self.action_space({\"set_line_status\": new_status_max})\n",
    "        \n",
    "        i_min = np.argmin(observation.rho)\n",
    "        new_status_min = np.zeros(observation.rho.shape)\n",
    "        if observation.rho[i_min] > 0:\n",
    "            # all powerlines are connected, i try to disconnect this one\n",
    "            new_status_min[i_min] = -1\n",
    "            act_min = self.action_space({\"set_line_status\": new_status_min})\n",
    "        else:\n",
    "            # at least one powerline is disconnected, i try to reconnect it\n",
    "            new_status_min[i_min] = 1\n",
    "#             act_min = self.action_space({\"set_status\": new_status_min})\n",
    "            act_min = self.action_space({\"set_line_status\": new_status_min,\n",
    "                                         \"set_bus\": {\"lines_or_id\": [(i_min, 1)], \"lines_ex_id\": [(i_min, 1)]}})\n",
    "    \n",
    "        _, reward_sim_dn, *_ = observation.simulate(self.do_nothing)\n",
    "        _, reward_sim_max, *_ = observation.simulate(act_max)\n",
    "        _, reward_sim_min, *_ = observation.simulate(act_min)\n",
    "            \n",
    "        if reward_sim_dn >= reward_sim_max and reward_sim_dn >= reward_sim_min:\n",
    "            self.print_next = False\n",
    "            res = self.do_nothing\n",
    "        elif reward_sim_max >= reward_sim_min:\n",
    "            self.print_next = True\n",
    "            res = act_max\n",
    "            print(res)\n",
    "        else:\n",
    "            self.print_next = True\n",
    "            res = act_min\n",
    "            print(res)\n",
    "        return res"
   ]
  },
  {
   "cell_type": "markdown",
   "metadata": {},
   "source": [
    "We compare this Agent with the Donothing agent (already coded) on the 3 episode made available with this package. To make the comparison more interesting, it's better to use the L2RPN rewards."
   ]
  },
  {
   "cell_type": "code",
   "execution_count": 23,
   "metadata": {},
   "outputs": [
    {
     "name": "stdout",
     "output_type": "stream",
     "text": [
      "The results for DoNothing agent are:\n",
      "\tFor chronics located at /home/benjamin/.local/lib/python3.6/site-packages/grid2op/data/test_multi_chronics/1\n",
      "\t\t - cumulative reward: 199.998003\n",
      "\t\t - number of time steps completed: 10 / 10\n"
     ]
    }
   ],
   "source": [
    "from grid2op.main import main\n",
    "from grid2op.Agent import DoNothingAgent\n",
    "from grid2op.Reward import L2RPNReward\n",
    "from grid2op.ChronicsHandler import GridStateFromFileWithForecasts\n",
    "\n",
    "max_iter = 10  # to make computation much faster we will only consider 50 time steps instead of 287\n",
    "\n",
    "res = main(nb_episode=1,\n",
    "           agent_class=DoNothingAgent,\n",
    "           path_casefile=grid2op.CASE_14_FILE,\n",
    "           path_chronics=grid2op.CHRONICS_MLUTIEPISODE,\n",
    "           names_chronics_to_backend=grid2op.NAMES_CHRONICS_TO_BACKEND,\n",
    "           gridStateclass_kwargs={\"gridvalueClass\": GridStateFromFileWithForecasts, \"max_iter\": max_iter},\n",
    "           reward_class=L2RPNReward\n",
    "          )\n",
    "print(\"The results for DoNothing agent are:\")\n",
    "for chron_name, _, cum_reward, nb_time_step, max_ts in res:\n",
    "    msg_tmp = \"\\tFor chronics located at {}\\n\".format(chron_name)\n",
    "    msg_tmp += \"\\t\\t - cumulative reward: {:.6f}\\n\".format(cum_reward)\n",
    "    msg_tmp += \"\\t\\t - number of time steps completed: {:.0f} / {:.0f}\".format(nb_time_step, max_ts)\n",
    "    print(msg_tmp)"
   ]
  },
  {
   "cell_type": "code",
   "execution_count": 24,
   "metadata": {},
   "outputs": [
    {
     "name": "stdout",
     "output_type": "stream",
     "text": [
      "The results for the custom agent are:\n",
      "\tFor chronics located at /home/benjamin/.local/lib/python3.6/site-packages/grid2op/data/test_multi_chronics/1\n",
      "\t\t - cumulative reward: 199.998003\n",
      "\t\t - number of time steps completed: 10 / 10\n"
     ]
    }
   ],
   "source": [
    "res = main(nb_episode=1,\n",
    "           agent_class=MyAgent,\n",
    "           path_casefile=grid2op.CASE_14_FILE,\n",
    "           path_chronics=grid2op.CHRONICS_MLUTIEPISODE,\n",
    "           names_chronics_to_backend=grid2op.NAMES_CHRONICS_TO_BACKEND,\n",
    "           gridStateclass_kwargs={\"gridvalueClass\": GridStateFromFileWithForecasts, \"max_iter\": max_iter},\n",
    "           reward_class=L2RPNReward\n",
    "          )\n",
    "print(\"The results for the custom agent are:\")\n",
    "for chron_name, _, cum_reward, nb_time_step, max_ts in res:\n",
    "    msg_tmp = \"\\tFor chronics located at {}\\n\".format(chron_name)\n",
    "    msg_tmp += \"\\t\\t - cumulative reward: {:.6f}\\n\".format(cum_reward)\n",
    "    msg_tmp += \"\\t\\t - number of time steps completed: {:.0f} / {:.0f}\".format(nb_time_step, max_ts)\n",
    "    print(msg_tmp)"
   ]
  },
  {
   "cell_type": "markdown",
   "metadata": {},
   "source": [
    "As we can see, there is no change in the performance for both agent (there would be if we didn't limit the episode length to 10 time steps)\n",
    "\n",
    "This agent is NOT recommended.\n",
    "\n",
    "**NB** These scores are given if setting `max_iter=-1` in the previous cells. Here, when `max_iter=10` we don't see any difference in the score (max_iter=10 has been set to make the tests of these notebooks run faster)"
   ]
  },
  {
   "cell_type": "code",
   "execution_count": 25,
   "metadata": {},
   "outputs": [
    {
     "name": "stdout",
     "output_type": "stream",
     "text": [
      "The results for the PowerLineSwitch agent are:\n",
      "\tFor chronics located at /home/benjamin/.local/lib/python3.6/site-packages/grid2op/data/test_multi_chronics/1\n",
      "\t\t - cumulative reward: 199.998150\n",
      "\t\t - number of time steps completed: 10 / 10\n"
     ]
    }
   ],
   "source": [
    "from grid2op.Agent import PowerLineSwitch\n",
    "res = main(nb_episode=1,\n",
    "           agent_class=PowerLineSwitch,\n",
    "           path_casefile=grid2op.CASE_14_FILE,\n",
    "           path_chronics=grid2op.CHRONICS_MLUTIEPISODE,\n",
    "           names_chronics_to_backend=grid2op.NAMES_CHRONICS_TO_BACKEND,\n",
    "           gridStateclass_kwargs={\"gridvalueClass\": GridStateFromFileWithForecasts, \"max_iter\": max_iter},\n",
    "           reward_class=L2RPNReward\n",
    "          )\n",
    "print(\"The results for the PowerLineSwitch agent are:\")\n",
    "for chron_name, _, cum_reward, nb_time_step, max_ts in res:\n",
    "    msg_tmp = \"\\tFor chronics located at {}\\n\".format(chron_name)\n",
    "    msg_tmp += \"\\t\\t - cumulative reward: {:.6f}\\n\".format(cum_reward)\n",
    "    msg_tmp += \"\\t\\t - number of time steps completed: {:.0f} / {:.0f}\".format(nb_time_step, max_ts)\n",
    "    print(msg_tmp)"
   ]
  },
  {
   "cell_type": "markdown",
   "metadata": {},
   "source": [
    "We want however to emphasize that do nothing is NOT the best solution, even in this simple case. For example, an agent choosing at each time step to disconnect / reconnect as to greedily maximize the anticipated reward will have a cumulative reward of 199.998***134*** in this situation.\n",
    "\n",
    "**NB** For these simulations, the score is completely irrealistic. Indeed, no special care has been taken to set the thermal limits to plausible values. This explain the very little different observed between the three agents above.\n",
    "\n",
    "**NB** These scores are given if setting `max_iter=-1` in the previous cells. Here, when `max_iter=10` we don't see any difference in the score (max_iter=10 has been set to make the tests of these notebooks run faster)"
   ]
  }
 ],
 "metadata": {
  "kernelspec": {
   "display_name": "Python 3",
   "language": "python",
   "name": "python3"
  },
  "language_info": {
   "codemirror_mode": {
    "name": "ipython",
    "version": 3
   },
   "file_extension": ".py",
   "mimetype": "text/x-python",
   "name": "python",
   "nbconvert_exporter": "python",
   "pygments_lexer": "ipython3",
   "version": "3.6.10"
  }
 },
 "nbformat": 4,
 "nbformat_minor": 2
}
